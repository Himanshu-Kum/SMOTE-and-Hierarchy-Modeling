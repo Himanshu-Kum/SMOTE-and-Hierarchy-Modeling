{
 "cells": [
  {
   "cell_type": "code",
   "execution_count": 1,
   "metadata": {},
   "outputs": [],
   "source": [
    "import pandas as pd\n",
    "import numpy as np\n",
    "from sklearn.feature_selection import RFE\n",
    "from sklearn.linear_model import LogisticRegression\n",
    "from sklearn.model_selection import train_test_split\n",
    "from sklearn.preprocessing import StandardScaler\n",
    "# pip install imblearn\n",
    "from sklearn.ensemble import RandomForestClassifier\n",
    "from sklearn.metrics import confusion_matrix\n",
    "from imblearn.over_sampling import SMOTE\n",
    "from sklearn.ensemble import RandomForestClassifier,AdaBoostClassifier,GradientBoostingClassifier\n",
    "from sklearn.tree import DecisionTreeClassifier\n",
    "from sklearn.ensemble import RandomForestRegressor\n",
    "import warnings\n",
    "warnings.filterwarnings(\"ignore\")"
   ]
  },
  {
   "cell_type": "code",
   "execution_count": 2,
   "metadata": {},
   "outputs": [],
   "source": [
    "t1=pd.read_csv('D:\\Verizon\\Version_2\\modeling\\merged_data\\hier_data.csv')\n",
    "t2=pd.read_csv('D:\\Verizon\\Version_2\\modeling\\merged_data\\hier_data_micro.csv')\n",
    "df=pd.concat([t1,t2])\n",
    "df=df.dropna()"
   ]
  },
  {
   "cell_type": "code",
   "execution_count": 3,
   "metadata": {},
   "outputs": [
    {
     "data": {
      "text/plain": [
       "0    365877\n",
       "1     29569\n",
       "Name: action, dtype: int64"
      ]
     },
     "execution_count": 3,
     "metadata": {},
     "output_type": "execute_result"
    }
   ],
   "source": [
    "df['action']=0\n",
    "df['action']=np.where(df['dc_perc'] <= 0.50, 0, 1)\n",
    "df['action'].value_counts()"
   ]
  },
  {
   "cell_type": "code",
   "execution_count": 4,
   "metadata": {},
   "outputs": [],
   "source": [
    "from sklearn.preprocessing import LabelEncoder\n",
    "labelencoder = LabelEncoder()\n",
    "enode_enc = pd.DataFrame(df, columns=['key_ramesh'])\n",
    "day_enc=pd.DataFrame(df, columns=['day'])\n",
    "enode_enc['key_enc'] = labelencoder.fit_transform(enode_enc['key_ramesh'])\n",
    "day_enc['day_enc']=labelencoder.fit_transform(day_enc['day'])\n",
    "df['enode_enc']=enode_enc['key_enc']\n",
    "df['day_enc']=day_enc['day_enc']"
   ]
  },
  {
   "cell_type": "code",
   "execution_count": 5,
   "metadata": {},
   "outputs": [],
   "source": [
    "height_enc = pd.DataFrame(df, columns=['centerline_type'])\n",
    "height_enc['height_enc'] = labelencoder.fit_transform(height_enc['centerline_type'])\n",
    "df['height_enc']=height_enc['height_enc']"
   ]
  },
  {
   "cell_type": "code",
   "execution_count": 6,
   "metadata": {},
   "outputs": [],
   "source": [
    "freq_enc = pd.DataFrame(df, columns=['key_frequency'])\n",
    "freq_enc['freq_enc'] = labelencoder.fit_transform(freq_enc['key_frequency'])\n",
    "df['freq_enc']=freq_enc['freq_enc']"
   ]
  },
  {
   "cell_type": "code",
   "execution_count": 7,
   "metadata": {},
   "outputs": [
    {
     "data": {
      "text/html": [
       "<div>\n",
       "<style scoped>\n",
       "    .dataframe tbody tr th:only-of-type {\n",
       "        vertical-align: middle;\n",
       "    }\n",
       "\n",
       "    .dataframe tbody tr th {\n",
       "        vertical-align: top;\n",
       "    }\n",
       "\n",
       "    .dataframe thead th {\n",
       "        text-align: right;\n",
       "    }\n",
       "</style>\n",
       "<table border=\"1\" class=\"dataframe\">\n",
       "  <thead>\n",
       "    <tr style=\"text-align: right;\">\n",
       "      <th></th>\n",
       "      <th>key_frequency</th>\n",
       "      <th>freq_enc</th>\n",
       "    </tr>\n",
       "  </thead>\n",
       "  <tbody>\n",
       "    <tr>\n",
       "      <td>0</td>\n",
       "      <td>700_5230</td>\n",
       "      <td>0</td>\n",
       "    </tr>\n",
       "    <tr>\n",
       "      <td>1</td>\n",
       "      <td>AWS_2050</td>\n",
       "      <td>2</td>\n",
       "    </tr>\n",
       "    <tr>\n",
       "      <td>2</td>\n",
       "      <td>PCS_900</td>\n",
       "      <td>5</td>\n",
       "    </tr>\n",
       "    <tr>\n",
       "      <td>12603</td>\n",
       "      <td>AWS3_66961</td>\n",
       "      <td>1</td>\n",
       "    </tr>\n",
       "    <tr>\n",
       "      <td>98554</td>\n",
       "      <td>PCS_875</td>\n",
       "      <td>4</td>\n",
       "    </tr>\n",
       "    <tr>\n",
       "      <td>155999</td>\n",
       "      <td>Cellular_2585</td>\n",
       "      <td>3</td>\n",
       "    </tr>\n",
       "  </tbody>\n",
       "</table>\n",
       "</div>"
      ],
      "text/plain": [
       "        key_frequency  freq_enc\n",
       "0            700_5230         0\n",
       "1            AWS_2050         2\n",
       "2             PCS_900         5\n",
       "12603      AWS3_66961         1\n",
       "98554         PCS_875         4\n",
       "155999  Cellular_2585         3"
      ]
     },
     "execution_count": 7,
     "metadata": {},
     "output_type": "execute_result"
    }
   ],
   "source": [
    "df[['key_frequency','freq_enc']].drop_duplicates()"
   ]
  },
  {
   "cell_type": "code",
   "execution_count": 13,
   "metadata": {},
   "outputs": [
    {
     "data": {
      "text/plain": [
       "Index(['day', 'hr', 'enodeb', 'eutrancell', 'carrier_x',\n",
       "       'sip_sc_abnormal_releases', 'sip_sc_call_answers',\n",
       "       'sip_sc_call_attempts', 'sip_sc_call_completions', 'sip_sc_call_drops',\n",
       "       'sip_sc_call_drops_including_handover', 'sip_sc_call_setup_completes',\n",
       "       'sip_sc_call_setup_failures', 'adjusted_sip_sc_dcs',\n",
       "       'adjusted_sip_sc_dc_pct', 'handover_attempts', 'handoverfailures',\n",
       "       'handover_failure_pct', 'qci1_bd_pct_num', 'qci1_bd_pct_den',\n",
       "       'key_ramesh', 'centerline_type', 'lat_new', 'long_new', 'key_frequency',\n",
       "       'dc_perc', 'loc_id', 'enode_b', 'summary', 'icon', 'precipIntensity',\n",
       "       'precipProbability', 'temperature', 'apparentTemperature', 'dewPoint',\n",
       "       'humidity', 'pressure', 'windSpeed', 'windGust', 'windBearing',\n",
       "       'cloudCover', 'uvIndex', 'visibility', 'ozone', 'precipType', 'action',\n",
       "       'enode_enc', 'day_enc', 'height_enc', 'freq_enc'],\n",
       "      dtype='object')"
      ]
     },
     "execution_count": 13,
     "metadata": {},
     "output_type": "execute_result"
    }
   ],
   "source": [
    "df.columns"
   ]
  },
  {
   "cell_type": "code",
   "execution_count": 14,
   "metadata": {},
   "outputs": [
    {
     "name": "stdout",
     "output_type": "stream",
     "text": [
      "(395446, 50)\n"
     ]
    }
   ],
   "source": [
    "print(df.shape)\n",
    "df=df.dropna()"
   ]
  },
  {
   "cell_type": "code",
   "execution_count": 15,
   "metadata": {},
   "outputs": [],
   "source": [
    "X=df[['day_enc','enode_enc','height_enc','freq_enc','hr','pressure','temperature','precipIntensity','humidity', 'windSpeed', 'windBearing','cloudCover', 'uvIndex']]"
   ]
  },
  {
   "cell_type": "code",
   "execution_count": 16,
   "metadata": {},
   "outputs": [],
   "source": [
    "Y=df[['action']]"
   ]
  },
  {
   "cell_type": "code",
   "execution_count": 17,
   "metadata": {},
   "outputs": [],
   "source": [
    "X_train, X_test, y_train, y_test = train_test_split(X, Y, test_size=0.3, random_state=0)"
   ]
  },
  {
   "cell_type": "code",
   "execution_count": 18,
   "metadata": {},
   "outputs": [],
   "source": [
    "logreg = LogisticRegression()"
   ]
  },
  {
   "cell_type": "code",
   "execution_count": 19,
   "metadata": {},
   "outputs": [
    {
     "name": "stdout",
     "output_type": "stream",
     "text": [
      "(276812, 13)\n",
      "(118634, 13)\n",
      "(276812, 1)\n",
      "(118634, 1)\n"
     ]
    }
   ],
   "source": [
    "print(X_train.shape)\n",
    "print(X_test.shape)\n",
    "print(y_train.shape)\n",
    "print(y_test.shape)"
   ]
  },
  {
   "cell_type": "markdown",
   "metadata": {},
   "source": [
    "## Logistic"
   ]
  },
  {
   "cell_type": "code",
   "execution_count": 21,
   "metadata": {},
   "outputs": [
    {
     "name": "stdout",
     "output_type": "stream",
     "text": [
      "Optimization terminated successfully.\n",
      "         Current function value: 0.237131\n",
      "         Iterations 8\n",
      "                          Results: Logit\n",
      "==================================================================\n",
      "Model:              Logit            Pseudo R-squared: 0.109      \n",
      "Dependent Variable: action           AIC:              131307.4767\n",
      "Date:               2020-08-09 22:13 BIC:              131444.3809\n",
      "No. Observations:   276812           Log-Likelihood:   -65641.    \n",
      "Df Model:           12               LL-Null:          -73668.    \n",
      "Df Residuals:       276799           LLR p-value:      0.0000     \n",
      "Converged:          1.0000           Scale:            1.0000     \n",
      "No. Iterations:     8.0000                                        \n",
      "------------------------------------------------------------------\n",
      "                   Coef.  Std.Err.    z     P>|z|   [0.025  0.975]\n",
      "------------------------------------------------------------------\n",
      "day_enc           -0.0002   0.0001  -2.9974 0.0027 -0.0004 -0.0001\n",
      "enode_enc          0.0078   0.0005  15.3185 0.0000  0.0068  0.0088\n",
      "height_enc         2.3296   0.0318  73.2023 0.0000  2.2673  2.3920\n",
      "freq_enc          -0.0621   0.0043 -14.4508 0.0000 -0.0705 -0.0537\n",
      "hr                 0.0788   0.0014  56.9508 0.0000  0.0761  0.0815\n",
      "pressure          -0.0050   0.0001 -55.5256 0.0000 -0.0052 -0.0049\n",
      "temperature        0.0026   0.0009   2.9823 0.0029  0.0009  0.0044\n",
      "precipIntensity    0.4932   0.1641   3.0064 0.0026  0.1717  0.8147\n",
      "humidity          -1.4399   0.0690 -20.8666 0.0000 -1.5751 -1.3046\n",
      "windSpeed          0.0101   0.0025   4.0625 0.0000  0.0052  0.0150\n",
      "windBearing        0.0006   0.0001   7.9577 0.0000  0.0004  0.0007\n",
      "cloudCover         0.3175   0.0306  10.3709 0.0000  0.2575  0.3776\n",
      "uvIndex            0.0837   0.0030  27.7852 0.0000  0.0778  0.0896\n",
      "==================================================================\n",
      "\n"
     ]
    }
   ],
   "source": [
    "import statsmodels.api as sm\n",
    "logit_model=sm.Logit(y_train,X_train)\n",
    "result=logit_model.fit()\n",
    "print(result.summary2())"
   ]
  },
  {
   "cell_type": "code",
   "execution_count": 22,
   "metadata": {},
   "outputs": [
    {
     "name": "stdout",
     "output_type": "stream",
     "text": [
      "Accuracy of logistic regression classifier on test set: 0.93\n"
     ]
    }
   ],
   "source": [
    "from sklearn.linear_model import LogisticRegression\n",
    "from sklearn import metrics\n",
    "logreg = LogisticRegression()\n",
    "logreg.fit(X_train, y_train)\n",
    "y_pred = logreg.predict(X_test)\n",
    "print('Accuracy of logistic regression classifier on test set: {:.2f}'.format(logreg.score(X_test, y_test)))"
   ]
  },
  {
   "cell_type": "code",
   "execution_count": 23,
   "metadata": {},
   "outputs": [
    {
     "name": "stdout",
     "output_type": "stream",
     "text": [
      "[[109798      0]\n",
      " [  8836      0]]\n",
      "              precision    recall  f1-score   support\n",
      "\n",
      "           0       0.93      1.00      0.96    109798\n",
      "           1       0.00      0.00      0.00      8836\n",
      "\n",
      "    accuracy                           0.93    118634\n",
      "   macro avg       0.46      0.50      0.48    118634\n",
      "weighted avg       0.86      0.93      0.89    118634\n",
      "\n"
     ]
    }
   ],
   "source": [
    "from sklearn.metrics import confusion_matrix\n",
    "confusion_matrix = confusion_matrix(y_test, y_pred)\n",
    "print(confusion_matrix)\n",
    "from sklearn.metrics import classification_report\n",
    "print(classification_report(y_test, y_pred))"
   ]
  },
  {
   "cell_type": "markdown",
   "metadata": {},
   "source": [
    "# Random forest"
   ]
  },
  {
   "cell_type": "code",
   "execution_count": 24,
   "metadata": {},
   "outputs": [
    {
     "data": {
      "text/plain": [
       "RandomForestClassifier(max_features='sqrt')"
      ]
     },
     "execution_count": 24,
     "metadata": {},
     "output_type": "execute_result"
    }
   ],
   "source": [
    "from sklearn.ensemble import RandomForestClassifier\n",
    "model = RandomForestClassifier(n_estimators=100, \n",
    "                               bootstrap = True,\n",
    "                               max_features = 'sqrt')\n",
    "model.fit(X_train, y_train)"
   ]
  },
  {
   "cell_type": "code",
   "execution_count": 27,
   "metadata": {},
   "outputs": [
    {
     "name": "stdout",
     "output_type": "stream",
     "text": [
      "Accuracy of logistic regression classifier on test set: 0.93\n"
     ]
    }
   ],
   "source": [
    "rf_predictions = model.predict(X_test)\n",
    "rf_probs = model.predict_proba(X_test)[:, 1]"
   ]
  },
  {
   "cell_type": "code",
   "execution_count": 30,
   "metadata": {},
   "outputs": [
    {
     "name": "stdout",
     "output_type": "stream",
     "text": [
      "Accuracy of logistic regression classifier on test set: 0.92\n",
      "[[108069   1729]\n",
      " [  8228    608]]\n",
      "              precision    recall  f1-score   support\n",
      "\n",
      "           0       0.93      0.98      0.96    109798\n",
      "           1       0.26      0.07      0.11      8836\n",
      "\n",
      "    accuracy                           0.92    118634\n",
      "   macro avg       0.59      0.53      0.53    118634\n",
      "weighted avg       0.88      0.92      0.89    118634\n",
      "\n"
     ]
    }
   ],
   "source": [
    "from sklearn.metrics import confusion_matrix\n",
    "from sklearn.metrics import accuracy_score\n",
    "from sklearn.metrics import classification_report\n",
    "print('Accuracy of logistic regression classifier on test set: {:.2f}'.format(accuracy_score(y_test, rf_predictions)))\n",
    "confusion_matrix = confusion_matrix(y_test,rf_predictions)\n",
    "print(confusion_matrix)\n",
    "print(classification_report(y_test, rf_predictions))"
   ]
  },
  {
   "cell_type": "markdown",
   "metadata": {},
   "source": [
    "# Boosting"
   ]
  },
  {
   "cell_type": "code",
   "execution_count": 32,
   "metadata": {},
   "outputs": [
    {
     "name": "stdout",
     "output_type": "stream",
     "text": [
      "Accuracy of logistic regression classifier on test set: 0.93\n"
     ]
    }
   ],
   "source": [
    "clf = AdaBoostClassifier(n_estimators=100)\n",
    "clf.fit(X_train, y_train)\n",
    "y_pred = clf.predict(X_test)\n",
    "from sklearn.metrics import accuracy_score\n",
    "print('Accuracy of logistic regression classifier on test set: {:.2f}'.format(accuracy_score(y_test, y_pred)))"
   ]
  },
  {
   "cell_type": "code",
   "execution_count": 33,
   "metadata": {},
   "outputs": [
    {
     "name": "stdout",
     "output_type": "stream",
     "text": [
      "[[109797      1]\n",
      " [  8836      0]]\n"
     ]
    }
   ],
   "source": [
    "from sklearn.metrics import confusion_matrix\n",
    "confusion_matrix = confusion_matrix(y_test,y_pred)\n",
    "print(confusion_matrix)"
   ]
  },
  {
   "cell_type": "markdown",
   "metadata": {},
   "source": [
    "# Gradient boosting"
   ]
  },
  {
   "cell_type": "code",
   "execution_count": 34,
   "metadata": {},
   "outputs": [
    {
     "name": "stdout",
     "output_type": "stream",
     "text": [
      "Accuracy of logistic regression classifier on test set: 0.93\n"
     ]
    }
   ],
   "source": [
    "clf = GradientBoostingClassifier(n_estimators=100)\n",
    "clf.fit(X_train, y_train)\n",
    "y_pred = clf.predict(X_test)\n",
    "print('Accuracy of logistic regression classifier on test set: {:.2f}'.format(accuracy_score(y_test, y_pred)))"
   ]
  },
  {
   "cell_type": "code",
   "execution_count": 35,
   "metadata": {},
   "outputs": [
    {
     "name": "stdout",
     "output_type": "stream",
     "text": [
      "0.9255525397440869\n",
      "[[109796      2]\n",
      " [  8830      6]]\n"
     ]
    }
   ],
   "source": [
    "from sklearn.metrics import accuracy_score\n",
    "print(accuracy_score(y_test, y_pred))\n",
    "from sklearn.metrics import confusion_matrix\n",
    "confusion_matrix = confusion_matrix(y_test,y_pred)\n",
    "print(confusion_matrix)"
   ]
  },
  {
   "cell_type": "markdown",
   "metadata": {},
   "source": [
    "# Decision Tree"
   ]
  },
  {
   "cell_type": "code",
   "execution_count": 36,
   "metadata": {},
   "outputs": [
    {
     "name": "stdout",
     "output_type": "stream",
     "text": [
      "Accuracy of logistic regression classifier on test set: 0.88\n"
     ]
    }
   ],
   "source": [
    "clf = DecisionTreeClassifier()\n",
    "clf.fit(X_train, y_train)\n",
    "y_pred = clf.predict(X_test)\n",
    "print('Accuracy of logistic regression classifier on test set: {:.2f}'.format(accuracy_score(y_test, y_pred)))"
   ]
  },
  {
   "cell_type": "code",
   "execution_count": 37,
   "metadata": {},
   "outputs": [
    {
     "name": "stdout",
     "output_type": "stream",
     "text": [
      "0.8762243538951734\n",
      "[[101905   7893]\n",
      " [  6791   2045]]\n"
     ]
    }
   ],
   "source": [
    "from sklearn.metrics import accuracy_score\n",
    "print(accuracy_score(y_test, y_pred))\n",
    "from sklearn.metrics import confusion_matrix\n",
    "confusion_matrix = confusion_matrix(y_test,y_pred)\n",
    "print(confusion_matrix)"
   ]
  },
  {
   "cell_type": "markdown",
   "metadata": {},
   "source": [
    "# SMOTE"
   ]
  },
  {
   "cell_type": "code",
   "execution_count": 38,
   "metadata": {},
   "outputs": [],
   "source": [
    "os = SMOTE(random_state = 33)"
   ]
  },
  {
   "cell_type": "code",
   "execution_count": 39,
   "metadata": {},
   "outputs": [],
   "source": [
    "X_train, X_test, y_train, y_test = train_test_split(X, Y, test_size=0.3, random_state=0)\n",
    "os_data_X,os_data_y=os.fit_sample(X_train, y_train)"
   ]
  },
  {
   "cell_type": "code",
   "execution_count": 40,
   "metadata": {},
   "outputs": [
    {
     "data": {
      "text/plain": [
       "1    256079\n",
       "0    256079\n",
       "Name: action, dtype: int64"
      ]
     },
     "execution_count": 40,
     "metadata": {},
     "output_type": "execute_result"
    }
   ],
   "source": [
    "os_data_y['action'].value_counts()"
   ]
  },
  {
   "cell_type": "code",
   "execution_count": 41,
   "metadata": {},
   "outputs": [],
   "source": [
    "X=os_data_X\n",
    "Y=os_data_y"
   ]
  },
  {
   "cell_type": "code",
   "execution_count": 42,
   "metadata": {},
   "outputs": [],
   "source": [
    "X_train, X_test, y_train, y_test = train_test_split(X, Y, test_size=0.3, random_state=0)"
   ]
  },
  {
   "cell_type": "code",
   "execution_count": 43,
   "metadata": {},
   "outputs": [
    {
     "data": {
      "text/plain": [
       "RandomForestClassifier(max_features='sqrt')"
      ]
     },
     "execution_count": 43,
     "metadata": {},
     "output_type": "execute_result"
    }
   ],
   "source": [
    "from sklearn.ensemble import RandomForestClassifier\n",
    "model = RandomForestClassifier(n_estimators=100, \n",
    "                               bootstrap = True,\n",
    "                               max_features = 'sqrt')\n",
    "model.fit(X_train, y_train)"
   ]
  },
  {
   "cell_type": "code",
   "execution_count": 44,
   "metadata": {},
   "outputs": [],
   "source": [
    "pred_train=model.predict(X_train)\n",
    "pred_test = model.predict(X_test)\n",
    "rf_probs = model.predict_proba(X_test)[:, 1]"
   ]
  },
  {
   "cell_type": "code",
   "execution_count": 45,
   "metadata": {},
   "outputs": [
    {
     "name": "stdout",
     "output_type": "stream",
     "text": [
      "[[72057  4836]\n",
      " [ 4064 72691]]\n",
      "0.9420753931063209\n"
     ]
    }
   ],
   "source": [
    "from sklearn.metrics import confusion_matrix\n",
    "confusion_matrix = confusion_matrix(y_test,pred_test)\n",
    "print(confusion_matrix)\n",
    "from sklearn.metrics import accuracy_score\n",
    "print(accuracy_score(y_test, pred_test))"
   ]
  },
  {
   "cell_type": "code",
   "execution_count": 46,
   "metadata": {},
   "outputs": [
    {
     "name": "stdout",
     "output_type": "stream",
     "text": [
      "(358510, 13)\n",
      "(153648, 13)\n",
      "(358510, 1)\n",
      "(153648, 1)\n",
      "(358510,)\n",
      "(153648,)\n"
     ]
    }
   ],
   "source": [
    "print(X_train.shape)\n",
    "print(X_test.shape)\n",
    "print(y_train.shape)\n",
    "print(y_test.shape)\n",
    "print(pred_train.shape)\n",
    "print(pred_test.shape)"
   ]
  },
  {
   "cell_type": "code",
   "execution_count": 465,
   "metadata": {},
   "outputs": [],
   "source": [
    "from sklearn.metrics import r2_score\n",
    "from rfpimp import permutation_importances\n",
    "def r2(model, X_train, y_train):\n",
    "    return r2_score(y_train, model.predict(X_train))\n",
    "perm_imp_rfpimp = permutation_importances(model, X_train, y_train, r2)"
   ]
  },
  {
   "cell_type": "code",
   "execution_count": 466,
   "metadata": {},
   "outputs": [
    {
     "data": {
      "text/html": [
       "<div>\n",
       "<style scoped>\n",
       "    .dataframe tbody tr th:only-of-type {\n",
       "        vertical-align: middle;\n",
       "    }\n",
       "\n",
       "    .dataframe tbody tr th {\n",
       "        vertical-align: top;\n",
       "    }\n",
       "\n",
       "    .dataframe thead th {\n",
       "        text-align: right;\n",
       "    }\n",
       "</style>\n",
       "<table border=\"1\" class=\"dataframe\">\n",
       "  <thead>\n",
       "    <tr style=\"text-align: right;\">\n",
       "      <th></th>\n",
       "      <th>Importance</th>\n",
       "    </tr>\n",
       "    <tr>\n",
       "      <th>Feature</th>\n",
       "      <th></th>\n",
       "    </tr>\n",
       "  </thead>\n",
       "  <tbody>\n",
       "    <tr>\n",
       "      <td>enode_enc</td>\n",
       "      <td>0.995252</td>\n",
       "    </tr>\n",
       "    <tr>\n",
       "      <td>freq_enc</td>\n",
       "      <td>0.577630</td>\n",
       "    </tr>\n",
       "    <tr>\n",
       "      <td>uvIndex</td>\n",
       "      <td>0.515227</td>\n",
       "    </tr>\n",
       "    <tr>\n",
       "      <td>precipIntensity</td>\n",
       "      <td>0.379220</td>\n",
       "    </tr>\n",
       "    <tr>\n",
       "      <td>hr</td>\n",
       "      <td>0.360819</td>\n",
       "    </tr>\n",
       "    <tr>\n",
       "      <td>height_enc</td>\n",
       "      <td>0.236812</td>\n",
       "    </tr>\n",
       "    <tr>\n",
       "      <td>day_enc</td>\n",
       "      <td>0.169609</td>\n",
       "    </tr>\n",
       "    <tr>\n",
       "      <td>humidity</td>\n",
       "      <td>0.136807</td>\n",
       "    </tr>\n",
       "    <tr>\n",
       "      <td>cloudCover</td>\n",
       "      <td>0.079204</td>\n",
       "    </tr>\n",
       "    <tr>\n",
       "      <td>temperature</td>\n",
       "      <td>0.074404</td>\n",
       "    </tr>\n",
       "    <tr>\n",
       "      <td>windBearing</td>\n",
       "      <td>0.069604</td>\n",
       "    </tr>\n",
       "    <tr>\n",
       "      <td>windSpeed</td>\n",
       "      <td>0.068804</td>\n",
       "    </tr>\n",
       "    <tr>\n",
       "      <td>pressure</td>\n",
       "      <td>0.055203</td>\n",
       "    </tr>\n",
       "  </tbody>\n",
       "</table>\n",
       "</div>"
      ],
      "text/plain": [
       "                 Importance\n",
       "Feature                    \n",
       "enode_enc          0.995252\n",
       "freq_enc           0.577630\n",
       "uvIndex            0.515227\n",
       "precipIntensity    0.379220\n",
       "hr                 0.360819\n",
       "height_enc         0.236812\n",
       "day_enc            0.169609\n",
       "humidity           0.136807\n",
       "cloudCover         0.079204\n",
       "temperature        0.074404\n",
       "windBearing        0.069604\n",
       "windSpeed          0.068804\n",
       "pressure           0.055203"
      ]
     },
     "execution_count": 466,
     "metadata": {},
     "output_type": "execute_result"
    }
   ],
   "source": [
    "perm_imp_rfpimp"
   ]
  },
  {
   "cell_type": "code",
   "execution_count": 467,
   "metadata": {},
   "outputs": [],
   "source": [
    "X_train['action']=y_train\n",
    "X_train['prediction']=pred_train\n",
    "X_test['action']=y_test\n",
    "X_test['prediction']=pred_test\n",
    "final=pd.concat([X_train,X_test])"
   ]
  },
  {
   "cell_type": "code",
   "execution_count": 468,
   "metadata": {},
   "outputs": [],
   "source": [
    "final_mer=pd.merge(final,df[['day_enc','hr','enode_enc','dc_perc']],how='left',left_on=['day_enc','hr','enode_enc'],right_on = ['day_enc','hr','enode_enc'])\n",
    "X_test_1=pd.merge(X_test,df[['day_enc','hr','enode_enc','dc_perc']],how='left',left_on=['day_enc','hr','enode_enc'],right_on = ['day_enc','hr','enode_enc'])\n"
   ]
  },
  {
   "cell_type": "code",
   "execution_count": 469,
   "metadata": {},
   "outputs": [],
   "source": [
    "final_mer=final_mer.dropna()\n",
    "# final_mer.isna().sum()\n",
    "X_test_1=X_test_1.dropna()\n",
    "# X_test_1.isna().sum()"
   ]
  },
  {
   "cell_type": "markdown",
   "metadata": {},
   "source": [
    "## RF Regressor"
   ]
  },
  {
   "cell_type": "code",
   "execution_count": 470,
   "metadata": {},
   "outputs": [],
   "source": [
    " part_1= final_mer[(final_mer.prediction == 0)]"
   ]
  },
  {
   "cell_type": "code",
   "execution_count": 471,
   "metadata": {},
   "outputs": [],
   "source": [
    " part_2=final_mer[(final.prediction == 1)]"
   ]
  },
  {
   "cell_type": "code",
   "execution_count": 472,
   "metadata": {},
   "outputs": [],
   "source": [
    "X_reg=part_2[['day_enc','enode_enc','height_enc','freq_enc','hr','pressure','temperature','precipIntensity','humidity', 'windSpeed', 'windBearing','cloudCover', 'uvIndex']]"
   ]
  },
  {
   "cell_type": "code",
   "execution_count": 473,
   "metadata": {},
   "outputs": [],
   "source": [
    "Y_reg=part_2[['dc_perc']]"
   ]
  },
  {
   "cell_type": "code",
   "execution_count": 474,
   "metadata": {},
   "outputs": [],
   "source": [
    "X_train, X_test, y_train, y_test = train_test_split(X_reg, Y_reg, test_size=0.3, random_state=0)"
   ]
  },
  {
   "cell_type": "code",
   "execution_count": 475,
   "metadata": {},
   "outputs": [
    {
     "data": {
      "text/plain": [
       "RandomForestRegressor(random_state=0)"
      ]
     },
     "execution_count": 475,
     "metadata": {},
     "output_type": "execute_result"
    }
   ],
   "source": [
    "regressor = RandomForestRegressor(n_estimators=100, random_state=0)\n",
    "regressor.fit(X_train,y_train)"
   ]
  },
  {
   "cell_type": "code",
   "execution_count": 476,
   "metadata": {},
   "outputs": [],
   "source": [
    "y_pred_train = regressor.predict(X_train)\n",
    "y_pred_test = regressor.predict(X_test)"
   ]
  },
  {
   "cell_type": "code",
   "execution_count": 383,
   "metadata": {},
   "outputs": [
    {
     "name": "stdout",
     "output_type": "stream",
     "text": [
      "0.992219214619256\n",
      "2.385911668394689\n",
      "0.21954046106685338\n",
      "0.5827453975176753\n"
     ]
    }
   ],
   "source": [
    "from sklearn.metrics import mean_squared_error\n",
    "from sklearn.metrics import mean_absolute_error\n",
    "from math import sqrt\n",
    "print(sqrt(mean_squared_error(y_train, y_pred_train)))\n",
    "print(sqrt(mean_squared_error(y_test, y_pred_test)))\n",
    "\n",
    "print(mean_absolute_error(y_train, y_pred_train))\n",
    "print(mean_absolute_error(y_test, y_pred_test))"
   ]
  },
  {
   "cell_type": "code",
   "execution_count": 485,
   "metadata": {},
   "outputs": [
    {
     "name": "stdout",
     "output_type": "stream",
     "text": [
      "0.8868183381480732\n",
      "0.2216469064085299\n"
     ]
    }
   ],
   "source": [
    "from sklearn.metrics import r2_score\n",
    "print(r2_score(y_train, y_pred_train,multioutput='uniform_average'))\n",
    "print(r2_score(y_test, y_pred_test,multioutput='uniform_average'))"
   ]
  },
  {
   "cell_type": "code",
   "execution_count": 384,
   "metadata": {},
   "outputs": [],
   "source": [
    "from sklearn.metrics import r2_score\n",
    "from rfpimp import permutation_importances\n",
    "\n",
    "def r2(regressor, X_train, y_train):\n",
    "    return r2_score(y_train, regressor.predict(X_train))\n",
    "\n",
    "perm_imp_rfpimp = permutation_importances(regressor, X_train, y_train, r2)"
   ]
  },
  {
   "cell_type": "code",
   "execution_count": 385,
   "metadata": {},
   "outputs": [
    {
     "data": {
      "text/html": [
       "<div>\n",
       "<style scoped>\n",
       "    .dataframe tbody tr th:only-of-type {\n",
       "        vertical-align: middle;\n",
       "    }\n",
       "\n",
       "    .dataframe tbody tr th {\n",
       "        vertical-align: top;\n",
       "    }\n",
       "\n",
       "    .dataframe thead th {\n",
       "        text-align: right;\n",
       "    }\n",
       "</style>\n",
       "<table border=\"1\" class=\"dataframe\">\n",
       "  <thead>\n",
       "    <tr style=\"text-align: right;\">\n",
       "      <th></th>\n",
       "      <th>Importance</th>\n",
       "    </tr>\n",
       "    <tr>\n",
       "      <th>Feature</th>\n",
       "      <th></th>\n",
       "    </tr>\n",
       "  </thead>\n",
       "  <tbody>\n",
       "    <tr>\n",
       "      <td>hr</td>\n",
       "      <td>0.670655</td>\n",
       "    </tr>\n",
       "    <tr>\n",
       "      <td>height_enc</td>\n",
       "      <td>0.506649</td>\n",
       "    </tr>\n",
       "    <tr>\n",
       "      <td>enode_enc</td>\n",
       "      <td>0.494807</td>\n",
       "    </tr>\n",
       "    <tr>\n",
       "      <td>day_enc</td>\n",
       "      <td>0.404739</td>\n",
       "    </tr>\n",
       "    <tr>\n",
       "      <td>uvIndex</td>\n",
       "      <td>0.363329</td>\n",
       "    </tr>\n",
       "    <tr>\n",
       "      <td>temperature</td>\n",
       "      <td>0.338578</td>\n",
       "    </tr>\n",
       "    <tr>\n",
       "      <td>pressure</td>\n",
       "      <td>0.268925</td>\n",
       "    </tr>\n",
       "    <tr>\n",
       "      <td>freq_enc</td>\n",
       "      <td>0.215728</td>\n",
       "    </tr>\n",
       "    <tr>\n",
       "      <td>cloudCover</td>\n",
       "      <td>0.195875</td>\n",
       "    </tr>\n",
       "    <tr>\n",
       "      <td>humidity</td>\n",
       "      <td>0.191906</td>\n",
       "    </tr>\n",
       "    <tr>\n",
       "      <td>windSpeed</td>\n",
       "      <td>0.134300</td>\n",
       "    </tr>\n",
       "    <tr>\n",
       "      <td>precipIntensity</td>\n",
       "      <td>0.078877</td>\n",
       "    </tr>\n",
       "    <tr>\n",
       "      <td>windBearing</td>\n",
       "      <td>0.060877</td>\n",
       "    </tr>\n",
       "  </tbody>\n",
       "</table>\n",
       "</div>"
      ],
      "text/plain": [
       "                 Importance\n",
       "Feature                    \n",
       "hr                 0.670655\n",
       "height_enc         0.506649\n",
       "enode_enc          0.494807\n",
       "day_enc            0.404739\n",
       "uvIndex            0.363329\n",
       "temperature        0.338578\n",
       "pressure           0.268925\n",
       "freq_enc           0.215728\n",
       "cloudCover         0.195875\n",
       "humidity           0.191906\n",
       "windSpeed          0.134300\n",
       "precipIntensity    0.078877\n",
       "windBearing        0.060877"
      ]
     },
     "execution_count": 385,
     "metadata": {},
     "output_type": "execute_result"
    }
   ],
   "source": [
    "perm_imp_rfpimp"
   ]
  },
  {
   "cell_type": "code",
   "execution_count": 386,
   "metadata": {},
   "outputs": [],
   "source": [
    "X_train['action']=y_train\n",
    "X_train['prediction']=y_pred_train\n",
    "X_test['action']=y_test\n",
    "X_test['prediction']=y_pred_test"
   ]
  },
  {
   "cell_type": "code",
   "execution_count": 387,
   "metadata": {},
   "outputs": [
    {
     "data": {
      "text/html": [
       "<div>\n",
       "<style scoped>\n",
       "    .dataframe tbody tr th:only-of-type {\n",
       "        vertical-align: middle;\n",
       "    }\n",
       "\n",
       "    .dataframe tbody tr th {\n",
       "        vertical-align: top;\n",
       "    }\n",
       "\n",
       "    .dataframe thead th {\n",
       "        text-align: right;\n",
       "    }\n",
       "</style>\n",
       "<table border=\"1\" class=\"dataframe\">\n",
       "  <thead>\n",
       "    <tr style=\"text-align: right;\">\n",
       "      <th></th>\n",
       "      <th>action</th>\n",
       "      <th>cloudCover</th>\n",
       "      <th>day_enc</th>\n",
       "      <th>enode_enc</th>\n",
       "      <th>freq_enc</th>\n",
       "      <th>height_enc</th>\n",
       "      <th>hr</th>\n",
       "      <th>humidity</th>\n",
       "      <th>precipIntensity</th>\n",
       "      <th>prediction</th>\n",
       "      <th>pressure</th>\n",
       "      <th>temperature</th>\n",
       "      <th>uvIndex</th>\n",
       "      <th>windBearing</th>\n",
       "      <th>windSpeed</th>\n",
       "    </tr>\n",
       "  </thead>\n",
       "  <tbody>\n",
       "    <tr>\n",
       "      <td>0</td>\n",
       "      <td>0</td>\n",
       "      <td>0.00</td>\n",
       "      <td>342</td>\n",
       "      <td>4</td>\n",
       "      <td>0</td>\n",
       "      <td>1</td>\n",
       "      <td>3</td>\n",
       "      <td>0.81</td>\n",
       "      <td>0.0004</td>\n",
       "      <td>0</td>\n",
       "      <td>1019.2</td>\n",
       "      <td>65.45</td>\n",
       "      <td>0.0</td>\n",
       "      <td>129.0</td>\n",
       "      <td>6.81</td>\n",
       "    </tr>\n",
       "    <tr>\n",
       "      <td>1</td>\n",
       "      <td>0</td>\n",
       "      <td>0.24</td>\n",
       "      <td>84</td>\n",
       "      <td>12</td>\n",
       "      <td>0</td>\n",
       "      <td>1</td>\n",
       "      <td>1</td>\n",
       "      <td>0.92</td>\n",
       "      <td>0.0008</td>\n",
       "      <td>0</td>\n",
       "      <td>1017.3</td>\n",
       "      <td>65.62</td>\n",
       "      <td>0.0</td>\n",
       "      <td>290.0</td>\n",
       "      <td>4.01</td>\n",
       "    </tr>\n",
       "    <tr>\n",
       "      <td>3</td>\n",
       "      <td>0</td>\n",
       "      <td>0.01</td>\n",
       "      <td>65</td>\n",
       "      <td>21</td>\n",
       "      <td>2</td>\n",
       "      <td>1</td>\n",
       "      <td>14</td>\n",
       "      <td>0.45</td>\n",
       "      <td>0.0021</td>\n",
       "      <td>0</td>\n",
       "      <td>1024.5</td>\n",
       "      <td>70.78</td>\n",
       "      <td>6.0</td>\n",
       "      <td>55.0</td>\n",
       "      <td>3.47</td>\n",
       "    </tr>\n",
       "    <tr>\n",
       "      <td>4</td>\n",
       "      <td>0</td>\n",
       "      <td>0.17</td>\n",
       "      <td>22</td>\n",
       "      <td>25</td>\n",
       "      <td>2</td>\n",
       "      <td>0</td>\n",
       "      <td>8</td>\n",
       "      <td>0.74</td>\n",
       "      <td>0.0000</td>\n",
       "      <td>0</td>\n",
       "      <td>1024.2</td>\n",
       "      <td>64.75</td>\n",
       "      <td>1.0</td>\n",
       "      <td>122.0</td>\n",
       "      <td>10.84</td>\n",
       "    </tr>\n",
       "    <tr>\n",
       "      <td>6</td>\n",
       "      <td>0</td>\n",
       "      <td>0.87</td>\n",
       "      <td>317</td>\n",
       "      <td>33</td>\n",
       "      <td>2</td>\n",
       "      <td>0</td>\n",
       "      <td>10</td>\n",
       "      <td>0.77</td>\n",
       "      <td>0.0000</td>\n",
       "      <td>0</td>\n",
       "      <td>1019.9</td>\n",
       "      <td>70.37</td>\n",
       "      <td>4.0</td>\n",
       "      <td>27.0</td>\n",
       "      <td>4.66</td>\n",
       "    </tr>\n",
       "    <tr>\n",
       "      <td>...</td>\n",
       "      <td>...</td>\n",
       "      <td>...</td>\n",
       "      <td>...</td>\n",
       "      <td>...</td>\n",
       "      <td>...</td>\n",
       "      <td>...</td>\n",
       "      <td>...</td>\n",
       "      <td>...</td>\n",
       "      <td>...</td>\n",
       "      <td>...</td>\n",
       "      <td>...</td>\n",
       "      <td>...</td>\n",
       "      <td>...</td>\n",
       "      <td>...</td>\n",
       "      <td>...</td>\n",
       "    </tr>\n",
       "    <tr>\n",
       "      <td>512148</td>\n",
       "      <td>0</td>\n",
       "      <td>0.03</td>\n",
       "      <td>137</td>\n",
       "      <td>7</td>\n",
       "      <td>1</td>\n",
       "      <td>1</td>\n",
       "      <td>13</td>\n",
       "      <td>0.47</td>\n",
       "      <td>0.0015</td>\n",
       "      <td>0</td>\n",
       "      <td>1016.2</td>\n",
       "      <td>85.81</td>\n",
       "      <td>9.0</td>\n",
       "      <td>20.0</td>\n",
       "      <td>4.73</td>\n",
       "    </tr>\n",
       "    <tr>\n",
       "      <td>512149</td>\n",
       "      <td>0</td>\n",
       "      <td>0.58</td>\n",
       "      <td>69</td>\n",
       "      <td>32</td>\n",
       "      <td>0</td>\n",
       "      <td>0</td>\n",
       "      <td>9</td>\n",
       "      <td>0.86</td>\n",
       "      <td>0.0010</td>\n",
       "      <td>0</td>\n",
       "      <td>1023.6</td>\n",
       "      <td>73.65</td>\n",
       "      <td>4.0</td>\n",
       "      <td>245.0</td>\n",
       "      <td>1.77</td>\n",
       "    </tr>\n",
       "    <tr>\n",
       "      <td>512152</td>\n",
       "      <td>0</td>\n",
       "      <td>0.31</td>\n",
       "      <td>81</td>\n",
       "      <td>35</td>\n",
       "      <td>2</td>\n",
       "      <td>0</td>\n",
       "      <td>13</td>\n",
       "      <td>0.28</td>\n",
       "      <td>0.0000</td>\n",
       "      <td>0</td>\n",
       "      <td>1022.8</td>\n",
       "      <td>77.19</td>\n",
       "      <td>7.0</td>\n",
       "      <td>169.0</td>\n",
       "      <td>3.63</td>\n",
       "    </tr>\n",
       "    <tr>\n",
       "      <td>512154</td>\n",
       "      <td>0</td>\n",
       "      <td>0.31</td>\n",
       "      <td>196</td>\n",
       "      <td>0</td>\n",
       "      <td>0</td>\n",
       "      <td>1</td>\n",
       "      <td>4</td>\n",
       "      <td>0.82</td>\n",
       "      <td>0.0033</td>\n",
       "      <td>0</td>\n",
       "      <td>1018.5</td>\n",
       "      <td>79.39</td>\n",
       "      <td>0.0</td>\n",
       "      <td>125.0</td>\n",
       "      <td>7.42</td>\n",
       "    </tr>\n",
       "    <tr>\n",
       "      <td>512156</td>\n",
       "      <td>0</td>\n",
       "      <td>0.88</td>\n",
       "      <td>320</td>\n",
       "      <td>1</td>\n",
       "      <td>2</td>\n",
       "      <td>1</td>\n",
       "      <td>5</td>\n",
       "      <td>0.81</td>\n",
       "      <td>0.0022</td>\n",
       "      <td>0</td>\n",
       "      <td>1014.3</td>\n",
       "      <td>53.35</td>\n",
       "      <td>0.0</td>\n",
       "      <td>25.0</td>\n",
       "      <td>8.73</td>\n",
       "    </tr>\n",
       "  </tbody>\n",
       "</table>\n",
       "<p>255154 rows × 15 columns</p>\n",
       "</div>"
      ],
      "text/plain": [
       "        action  cloudCover  day_enc  enode_enc  freq_enc  height_enc  hr  \\\n",
       "0            0        0.00      342          4         0           1   3   \n",
       "1            0        0.24       84         12         0           1   1   \n",
       "3            0        0.01       65         21         2           1  14   \n",
       "4            0        0.17       22         25         2           0   8   \n",
       "6            0        0.87      317         33         2           0  10   \n",
       "...        ...         ...      ...        ...       ...         ...  ..   \n",
       "512148       0        0.03      137          7         1           1  13   \n",
       "512149       0        0.58       69         32         0           0   9   \n",
       "512152       0        0.31       81         35         2           0  13   \n",
       "512154       0        0.31      196          0         0           1   4   \n",
       "512156       0        0.88      320          1         2           1   5   \n",
       "\n",
       "        humidity  precipIntensity  prediction  pressure  temperature  uvIndex  \\\n",
       "0           0.81           0.0004           0    1019.2        65.45      0.0   \n",
       "1           0.92           0.0008           0    1017.3        65.62      0.0   \n",
       "3           0.45           0.0021           0    1024.5        70.78      6.0   \n",
       "4           0.74           0.0000           0    1024.2        64.75      1.0   \n",
       "6           0.77           0.0000           0    1019.9        70.37      4.0   \n",
       "...          ...              ...         ...       ...          ...      ...   \n",
       "512148      0.47           0.0015           0    1016.2        85.81      9.0   \n",
       "512149      0.86           0.0010           0    1023.6        73.65      4.0   \n",
       "512152      0.28           0.0000           0    1022.8        77.19      7.0   \n",
       "512154      0.82           0.0033           0    1018.5        79.39      0.0   \n",
       "512156      0.81           0.0022           0    1014.3        53.35      0.0   \n",
       "\n",
       "        windBearing  windSpeed  \n",
       "0             129.0       6.81  \n",
       "1             290.0       4.01  \n",
       "3              55.0       3.47  \n",
       "4             122.0      10.84  \n",
       "6              27.0       4.66  \n",
       "...             ...        ...  \n",
       "512148         20.0       4.73  \n",
       "512149        245.0       1.77  \n",
       "512152        169.0       3.63  \n",
       "512154        125.0       7.42  \n",
       "512156         25.0       8.73  \n",
       "\n",
       "[255154 rows x 15 columns]"
      ]
     },
     "execution_count": 387,
     "metadata": {},
     "output_type": "execute_result"
    }
   ],
   "source": [
    "final_3=pd.concat([X_train,X_test])\n",
    "final_3=final_3.sort_index(axis=1, level=None, ascending=True)\n",
    "final_3\n",
    "del part_1['dc_perc']\n",
    "part_1=part_1.sort_index(axis=1, level=None, ascending=True)\n",
    "part_1"
   ]
  },
  {
   "cell_type": "code",
   "execution_count": 293,
   "metadata": {},
   "outputs": [],
   "source": [
    "final_data=pd.concat([final_3,part_1])"
   ]
  },
  {
   "cell_type": "code",
   "execution_count": 294,
   "metadata": {},
   "outputs": [],
   "source": [
    "# final_data.to_csv ('D:\\Verizon\\Version_2\\modeling\\hadoop\\\\hier_mod_mac_mic.csv', index_label='Index')"
   ]
  },
  {
   "cell_type": "code",
   "execution_count": 296,
   "metadata": {},
   "outputs": [
    {
     "data": {
      "text/plain": [
       "(503620, 20)"
      ]
     },
     "execution_count": 296,
     "metadata": {},
     "output_type": "execute_result"
    }
   ],
   "source": [
    "final_data.shape"
   ]
  }
 ],
 "metadata": {
  "kernelspec": {
   "display_name": "Python 3",
   "language": "python",
   "name": "python3"
  },
  "language_info": {
   "codemirror_mode": {
    "name": "ipython",
    "version": 3
   },
   "file_extension": ".py",
   "mimetype": "text/x-python",
   "name": "python",
   "nbconvert_exporter": "python",
   "pygments_lexer": "ipython3",
   "version": "3.7.3"
  }
 },
 "nbformat": 4,
 "nbformat_minor": 2
}
